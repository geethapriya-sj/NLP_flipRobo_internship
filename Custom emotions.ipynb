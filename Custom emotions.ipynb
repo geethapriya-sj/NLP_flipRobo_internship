{
 "cells": [
  {
   "cell_type": "markdown",
   "metadata": {},
   "source": [
    "Pick your choice of document and update the emotion document accordingly (you document words and associated emotion where applicable) and analyse the sentiments of people.\n",
    "\n",
    "    i added two words scrumptious and taste in the emotion.txt document. And in My_own_text.txt , used those words."
   ]
  },
  {
   "cell_type": "markdown",
   "metadata": {},
   "source": [
    "Importing all packages"
   ]
  },
  {
   "cell_type": "code",
   "execution_count": 34,
   "metadata": {},
   "outputs": [],
   "source": [
    "import string\n",
    "from collections import Counter\n",
    "import matplotlib.pyplot as plt\n",
    "import nltk\n",
    "from nltk.corpus import stopwords\n",
    "from nltk.tokenize import word_tokenize,sent_tokenize\n",
    "from nltk.stem import WordNetLemmatizer"
   ]
  },
  {
   "cell_type": "code",
   "execution_count": 35,
   "metadata": {},
   "outputs": [],
   "source": [
    "#Read the file\n",
    "my_custom_text = open('My_Own_Text.txt',encoding='utf-8').read()"
   ]
  },
  {
   "cell_type": "code",
   "execution_count": 36,
   "metadata": {},
   "outputs": [],
   "source": [
    "# convert to lower case\n",
    "my_custom_text_lowerCase = my_custom_text.lower()"
   ]
  },
  {
   "cell_type": "code",
   "execution_count": 37,
   "metadata": {},
   "outputs": [
    {
     "name": "stdout",
     "output_type": "stream",
     "text": [
      "['i', 'am', 'so', 'happy', 'that', 'i', 'am', 'working', 'in', 'wellsfargo', 'company', 'provides', 'the', 'great', 'worklife', 'balance', 'food', 'served', 'in', 'campaus', 'is', 'scrumptious', 'and', 'tastes', 'good']\n"
     ]
    }
   ],
   "source": [
    "#remove the punctuation\n",
    "cleaned_text = my_custom_text_lowerCase.translate(str.maketrans('','',string.punctuation))\n",
    "tokenize_words = word_tokenize(cleaned_text)\n",
    "print(tokenize_words)"
   ]
  },
  {
   "cell_type": "code",
   "execution_count": 38,
   "metadata": {},
   "outputs": [],
   "source": [
    "stopword = stopwords.words('english')"
   ]
  },
  {
   "cell_type": "code",
   "execution_count": 39,
   "metadata": {},
   "outputs": [
    {
     "name": "stdout",
     "output_type": "stream",
     "text": [
      "['happy', 'working', 'wellsfargo', 'company', 'provides', 'great', 'worklife', 'balance', 'food', 'served', 'campaus', 'scrumptious', 'tastes', 'good']\n"
     ]
    }
   ],
   "source": [
    "#Remove stopwords\n",
    "final_words = []\n",
    "for word in tokenize_words:\n",
    "    if word not in stopword:\n",
    "        final_words.append(word)\n",
    "print(final_words)"
   ]
  },
  {
   "cell_type": "code",
   "execution_count": 40,
   "metadata": {},
   "outputs": [],
   "source": [
    "#lemma words removal\n",
    "lemma_words = []\n",
    "for word in final_words:\n",
    "    word = WordNetLemmatizer().lemmatize(word)\n",
    "    lemma_words.append(word)"
   ]
  },
  {
   "cell_type": "code",
   "execution_count": 47,
   "metadata": {},
   "outputs": [],
   "source": [
    "from nltk.stem import PorterStemmer\n",
    "Porter = PorterStemmer()\n",
    "\n",
    "#lemma words removal\n",
    "stem_words = []\n",
    "for word in final_words:\n",
    "    word = Porter.stem(word)\n",
    "    stem_words.append(word)\n"
   ]
  },
  {
   "cell_type": "code",
   "execution_count": 48,
   "metadata": {},
   "outputs": [
    {
     "name": "stdout",
     "output_type": "stream",
     "text": [
      "['happy', 'working', 'wellsfargo', 'company', 'provides', 'great', 'worklife', 'balance', 'food', 'served', 'campaus', 'scrumptious', 'tastes', 'good'] \n",
      "\n",
      "['happy', 'working', 'wellsfargo', 'company', 'provides', 'great', 'worklife', 'balance', 'food', 'served', 'campaus', 'scrumptious', 'taste', 'good']\n",
      "\n",
      " ['happi', 'work', 'wellsfargo', 'compani', 'provid', 'great', 'worklif', 'balanc', 'food', 'serv', 'campau', 'scrumptiou', 'tast', 'good']\n"
     ]
    }
   ],
   "source": [
    "print(final_words,'\\n')\n",
    "print(lemma_words)\n",
    "print('\\n',stem_words)"
   ]
  },
  {
   "cell_type": "markdown",
   "metadata": {},
   "source": [
    "I can see the lemmatizer changes the word tasty to its base word 'taste'. But PorteStem is not perform good in stemming the words."
   ]
  },
  {
   "cell_type": "code",
   "execution_count": 41,
   "metadata": {},
   "outputs": [
    {
     "name": "stdout",
     "output_type": "stream",
     "text": [
      "People emotions from the text \n",
      " [' happy,', ' Soulful', ' Soulful', ' happy,'] \n",
      " \n",
      "\n",
      "Count of each emotion \n",
      " Counter({' happy,': 2, ' Soulful': 2})\n"
     ]
    }
   ],
   "source": [
    "#refer the emotion file to words to determine the emotion\n",
    "emotions_list = []\n",
    "with open('emotions.txt','r') as file:\n",
    "        for line in file:\n",
    "            clear_line = line.replace(\"\\n\",'').replace(\"'\",'').strip()\n",
    "            word,emotion = clear_line.split(':')\n",
    "            if word in  lemma_words:\n",
    "                emotions_list.append(emotion)\n",
    "print(\"People emotions from the text \\n\", emotions_list, '\\n \\n')\n",
    "\n",
    "\n",
    "w = Counter(emotions_list)\n",
    "print(\"Count of each emotion \\n\", w)"
   ]
  },
  {
   "cell_type": "markdown",
   "metadata": {},
   "source": [
    "I can able to see the new emotion soulfull,  i added in emotion.txt "
   ]
  },
  {
   "cell_type": "code",
   "execution_count": null,
   "metadata": {},
   "outputs": [],
   "source": []
  }
 ],
 "metadata": {
  "kernelspec": {
   "display_name": "Python 3",
   "language": "python",
   "name": "python3"
  },
  "language_info": {
   "codemirror_mode": {
    "name": "ipython",
    "version": 3
   },
   "file_extension": ".py",
   "mimetype": "text/x-python",
   "name": "python",
   "nbconvert_exporter": "python",
   "pygments_lexer": "ipython3",
   "version": "3.7.4"
  }
 },
 "nbformat": 4,
 "nbformat_minor": 2
}
